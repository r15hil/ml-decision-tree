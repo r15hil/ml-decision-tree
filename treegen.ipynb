{
 "cells": [
  {
   "cell_type": "code",
   "execution_count": 1,
   "metadata": {},
   "outputs": [],
   "source": [
    "import numpy as np\n",
    "from math import log2\n",
    "# import time\n",
    "\n",
    "# class Node:\n",
    "#     def __init__(self, emitter=None, split=None, roomlabel=None):\n",
    "#         self.right = None\n",
    "#         self.left = None\n",
    "#         self.emitter = emitter\n",
    "#         self.split = split\n",
    "#         self.roomlabel = roomlabel"
   ]
  },
  {
   "cell_type": "code",
   "execution_count": 2,
   "metadata": {},
   "outputs": [],
   "source": [
    "def entropy(roomData):\n",
    "    H=0.0\n",
    "    i=0\n",
    "    scoreboard = {1:0, 2:0, 3:0, 4:0}\n",
    "    size = len(roomData)\n",
    "    while i<size:\n",
    "        if roomData[i][-1] == 1:\n",
    "            scoreboard[1]+=1\n",
    "        elif roomData[i][-1] == 2:\n",
    "            scoreboard[2]+=1\n",
    "        elif roomData[i][-1] == 3:\n",
    "            scoreboard[3]+=1\n",
    "        elif roomData[i][-1] == 4:\n",
    "            scoreboard[4]+=1\n",
    "        i+=1;\n",
    "    for i in (1,2,3,4):\n",
    "        if scoreboard[i] > 0:\n",
    "            H += ((-scoreboard[i])/size)*(log2(scoreboard[i]/size))\n",
    "    return H"
   ]
  },
  {
   "cell_type": "code",
   "execution_count": 3,
   "metadata": {},
   "outputs": [],
   "source": [
    "def InfoGain(All, Left, Right):\n",
    "    H_SAll=entropy(All)\n",
    "    Total=len(Left)+len(Right)\n",
    "    Remainder=((len(Left)/Total)*entropy(Left))+((len(Right)/Total)*entropy(Right))\n",
    "    Gains=H_SAll-Remainder\n",
    "    return Gains"
   ]
  },
  {
   "cell_type": "code",
   "execution_count": 4,
   "metadata": {},
   "outputs": [],
   "source": [
    "def FIND_SPLIT(d):\n",
    "    emitter = 0\n",
    "    value = 0\n",
    "    max_info_gain = 0\n",
    "    \n",
    "    for x in range(len(d[0])-2):\n",
    "        #d.sort(d,key = lambda y: y[x])\n",
    "        ds = np.array(sorted(d, key = lambda y: y[x], reverse=True))\n",
    "        for r in range(len(ds)):\n",
    "            \n",
    "            split_point = ds[r][x]\n",
    "            if(r!=len(ds)-1 and ds[r+1][x] == split_point):\n",
    "                continue\n",
    "            info_gain = InfoGain(ds, ds[:r+1],ds[r+1:])\n",
    "            \n",
    "            if(info_gain > max_info_gain):\n",
    "                emitter = x\n",
    "                value = split_point\n",
    "                max_info_gain = info_gain\n",
    "            \n",
    "            \n",
    "        \n",
    "    return emitter, value"
   ]
  },
  {
   "cell_type": "code",
   "execution_count": 5,
   "metadata": {},
   "outputs": [],
   "source": [
    "def split(clean_rows):\n",
    "    Left = []\n",
    "    Right = []\n",
    "    em, val = FIND_SPLIT(clean_rows) #splitvalue[0] = emitter and splitvalue[1] = value under that column\n",
    "    \n",
    "    for i in range(len(clean_rows)):\n",
    "        if(clean_rows[i][em] >= val):\n",
    "            Left.append(clean_rows[i])\n",
    "        \n",
    "        else:\n",
    "            Right.append(clean_rows[i])\n",
    "        \n",
    "    \n",
    "    \n",
    "    return np.array(Left),np.array(Right),em,val"
   ]
  },
  {
   "cell_type": "code",
   "execution_count": 6,
   "metadata": {},
   "outputs": [],
   "source": [
    "def tree_learning(training_data, depth):\n",
    "    if(entropy(training_data) == 0):\n",
    "        label = training_data[0][-1]\n",
    "        leaf = {'emitter':None, 'value':None, 'room': label, 'right':None, 'left':None}\n",
    "        return leaf, depth\n",
    "    else:\n",
    "        ldata, rdata, em, val = split(training_data)\n",
    "        root = {'emitter': em, 'value': val, 'room': None, 'right':None, 'left':None}\n",
    "        root['left'], l_depth = tree_learning(ldata, depth+1)\n",
    "        root['right'], r_depth = tree_learning(rdata, depth+1)\n",
    "        return root, max(l_depth, r_depth)"
   ]
  },
  {
   "cell_type": "code",
   "execution_count": 7,
   "metadata": {},
   "outputs": [],
   "source": [
    "# def tree_learning2(training_data):\n",
    "#     if(entropy(training_data) == 0):\n",
    "#         label = training_data[0][-1]\n",
    "#         leaf = Node(roomlabel=label)\n",
    "#         return leaf\n",
    "#     else:\n",
    "#         ldata, rdata, em, val = split(training_data)\n",
    "#         root = Node(emitter=em, split=val)\n",
    "#         root.left = tree_learning2(ldata)\n",
    "#         root.right = tree_learning2(rdata)\n",
    "#         return root"
   ]
  },
  {
   "cell_type": "code",
   "execution_count": 8,
   "metadata": {},
   "outputs": [],
   "source": [
    "clean_rows = np.loadtxt(\"clean_dataset.txt\")"
   ]
  },
  {
   "cell_type": "code",
   "execution_count": 9,
   "metadata": {},
   "outputs": [
    {
     "name": "stdout",
     "output_type": "stream",
     "text": [
      "{'emitter': 0, 'value': -54.0, 'room': None, 'right': {'emitter': 4, 'value': -59.0, 'room': None, 'right': {'emitter': 3, 'value': -55.0, 'room': None, 'right': {'emitter': 2, 'value': -55.0, 'room': None, 'right': {'emitter': None, 'value': None, 'room': 1.0, 'right': None, 'left': None}, 'left': {'emitter': 0, 'value': -56.0, 'room': None, 'right': {'emitter': 4, 'value': -64.0, 'room': None, 'right': {'emitter': None, 'value': None, 'room': 1.0, 'right': None, 'left': None}, 'left': {'emitter': 5, 'value': -82.0, 'room': None, 'right': {'emitter': 0, 'value': -60.0, 'room': None, 'right': {'emitter': 3, 'value': -63.0, 'room': None, 'right': {'emitter': None, 'value': None, 'room': 4.0, 'right': None, 'left': None}, 'left': {'emitter': None, 'value': None, 'room': 1.0, 'right': None, 'left': None}}, 'left': {'emitter': None, 'value': None, 'room': 4.0, 'right': None, 'left': None}}, 'left': {'emitter': None, 'value': None, 'room': 1.0, 'right': None, 'left': None}}}, 'left': {'emitter': 1, 'value': -52.0, 'room': None, 'right': {'emitter': None, 'value': None, 'room': 4.0, 'right': None, 'left': None}, 'left': {'emitter': None, 'value': None, 'room': 3.0, 'right': None, 'left': None}}}}, 'left': {'emitter': 1, 'value': -50.0, 'room': None, 'right': {'emitter': None, 'value': None, 'room': 3.0, 'right': None, 'left': None}, 'left': {'emitter': 0, 'value': -58.0, 'room': None, 'right': {'emitter': None, 'value': None, 'room': 3.0, 'right': None, 'left': None}, 'left': {'emitter': None, 'value': None, 'room': 1.0, 'right': None, 'left': None}}}}, 'left': {'emitter': 4, 'value': -56.0, 'room': None, 'right': {'emitter': 3, 'value': -58.0, 'room': None, 'right': {'emitter': None, 'value': None, 'room': 4.0, 'right': None, 'left': None}, 'left': {'emitter': None, 'value': None, 'room': 3.0, 'right': None, 'left': None}}, 'left': {'emitter': None, 'value': None, 'room': 4.0, 'right': None, 'left': None}}}, 'left': {'emitter': 0, 'value': -44.0, 'room': None, 'right': {'emitter': 4, 'value': -70.0, 'room': None, 'right': {'emitter': 3, 'value': -48.0, 'room': None, 'right': {'emitter': 2, 'value': -57.0, 'room': None, 'right': {'emitter': 0, 'value': -50.0, 'room': None, 'right': {'emitter': None, 'value': None, 'room': 3.0, 'right': None, 'left': None}, 'left': {'emitter': None, 'value': None, 'room': 2.0, 'right': None, 'left': None}}, 'left': {'emitter': None, 'value': None, 'room': 3.0, 'right': None, 'left': None}}, 'left': {'emitter': 1, 'value': -58.0, 'room': None, 'right': {'emitter': 1, 'value': -59.0, 'room': None, 'right': {'emitter': None, 'value': None, 'room': 2.0, 'right': None, 'left': None}, 'left': {'emitter': None, 'value': None, 'room': 3.0, 'right': None, 'left': None}}, 'left': {'emitter': None, 'value': None, 'room': 2.0, 'right': None, 'left': None}}}, 'left': {'emitter': 3, 'value': -39.0, 'room': None, 'right': {'emitter': 4, 'value': -53.0, 'room': None, 'right': {'emitter': 2, 'value': -53.0, 'room': None, 'right': {'emitter': 5, 'value': -77.0, 'room': None, 'right': {'emitter': 3, 'value': -48.0, 'room': None, 'right': {'emitter': 5, 'value': -86.0, 'room': None, 'right': {'emitter': 0, 'value': -48.0, 'room': None, 'right': {'emitter': None, 'value': None, 'room': 3.0, 'right': None, 'left': None}, 'left': {'emitter': 1, 'value': -55.0, 'room': None, 'right': {'emitter': None, 'value': None, 'room': 2.0, 'right': None, 'left': None}, 'left': {'emitter': None, 'value': None, 'room': 3.0, 'right': None, 'left': None}}}, 'left': {'emitter': None, 'value': None, 'room': 3.0, 'right': None, 'left': None}}, 'left': {'emitter': 1, 'value': -55.0, 'room': None, 'right': {'emitter': 5, 'value': -85.0, 'room': None, 'right': {'emitter': 0, 'value': -50.0, 'room': None, 'right': {'emitter': None, 'value': None, 'room': 3.0, 'right': None, 'left': None}, 'left': {'emitter': None, 'value': None, 'room': 2.0, 'right': None, 'left': None}}, 'left': {'emitter': 2, 'value': -60.0, 'room': None, 'right': {'emitter': None, 'value': None, 'room': 2.0, 'right': None, 'left': None}, 'left': {'emitter': 3, 'value': -45.0, 'room': None, 'right': {'emitter': None, 'value': None, 'room': 3.0, 'right': None, 'left': None}, 'left': {'emitter': 0, 'value': -47.0, 'room': None, 'right': {'emitter': None, 'value': None, 'room': 3.0, 'right': None, 'left': None}, 'left': {'emitter': 0, 'value': -45.0, 'room': None, 'right': {'emitter': 2, 'value': -55.0, 'room': None, 'right': {'emitter': None, 'value': None, 'room': 3.0, 'right': None, 'left': None}, 'left': {'emitter': None, 'value': None, 'room': 2.0, 'right': None, 'left': None}}, 'left': {'emitter': None, 'value': None, 'room': 2.0, 'right': None, 'left': None}}}}}}, 'left': {'emitter': None, 'value': None, 'room': 3.0, 'right': None, 'left': None}}}, 'left': {'emitter': 4, 'value': -67.0, 'room': None, 'right': {'emitter': None, 'value': None, 'room': 2.0, 'right': None, 'left': None}, 'left': {'emitter': 0, 'value': -49.0, 'room': None, 'right': {'emitter': None, 'value': None, 'room': 3.0, 'right': None, 'left': None}, 'left': {'emitter': 1, 'value': -52.0, 'room': None, 'right': {'emitter': 0, 'value': -48.0, 'room': None, 'right': {'emitter': None, 'value': None, 'room': 2.0, 'right': None, 'left': None}, 'left': {'emitter': 2, 'value': -55.0, 'room': None, 'right': {'emitter': None, 'value': None, 'room': 3.0, 'right': None, 'left': None}, 'left': {'emitter': 0, 'value': -46.0, 'room': None, 'right': {'emitter': None, 'value': None, 'room': 3.0, 'right': None, 'left': None}, 'left': {'emitter': None, 'value': None, 'room': 2.0, 'right': None, 'left': None}}}}, 'left': {'emitter': None, 'value': None, 'room': 3.0, 'right': None, 'left': None}}}}}, 'left': {'emitter': 4, 'value': -59.0, 'room': None, 'right': {'emitter': None, 'value': None, 'room': 3.0, 'right': None, 'left': None}, 'left': {'emitter': 5, 'value': -78.0, 'room': None, 'right': {'emitter': None, 'value': None, 'room': 3.0, 'right': None, 'left': None}, 'left': {'emitter': 4, 'value': -58.0, 'room': None, 'right': {'emitter': 0, 'value': -47.0, 'room': None, 'right': {'emitter': None, 'value': None, 'room': 3.0, 'right': None, 'left': None}, 'left': {'emitter': None, 'value': None, 'room': 2.0, 'right': None, 'left': None}}, 'left': {'emitter': None, 'value': None, 'room': 3.0, 'right': None, 'left': None}}}}}, 'left': {'emitter': None, 'value': None, 'room': 4.0, 'right': None, 'left': None}}, 'left': {'emitter': None, 'value': None, 'room': 2.0, 'right': None, 'left': None}}}, 'left': {'emitter': 3, 'value': -47.0, 'room': None, 'right': {'emitter': 0, 'value': -42.0, 'room': None, 'right': {'emitter': None, 'value': None, 'room': 3.0, 'right': None, 'left': None}, 'left': {'emitter': 2, 'value': -48.0, 'room': None, 'right': {'emitter': None, 'value': None, 'room': 2.0, 'right': None, 'left': None}, 'left': {'emitter': None, 'value': None, 'room': 3.0, 'right': None, 'left': None}}}, 'left': {'emitter': None, 'value': None, 'room': 2.0, 'right': None, 'left': None}}}}\n"
     ]
    }
   ],
   "source": [
    "t, d = tree_learning(clean_rows, 0)\n",
    "print(t)"
   ]
  },
  {
   "cell_type": "code",
   "execution_count": 10,
   "metadata": {},
   "outputs": [
    {
     "ename": "SyntaxError",
     "evalue": "invalid syntax (<ipython-input-10-b84f26c8d109>, line 1)",
     "output_type": "error",
     "traceback": [
      "\u001b[0;36m  File \u001b[0;32m\"<ipython-input-10-b84f26c8d109>\"\u001b[0;36m, line \u001b[0;32m1\u001b[0m\n\u001b[0;31m    def cross_validation()\u001b[0m\n\u001b[0m                          ^\u001b[0m\n\u001b[0;31mSyntaxError\u001b[0m\u001b[0;31m:\u001b[0m invalid syntax\n"
     ]
    }
   ],
   "source": [
    "def cross_validation()"
   ]
  },
  {
   "cell_type": "code",
   "execution_count": null,
   "metadata": {},
   "outputs": [],
   "source": []
  }
 ],
 "metadata": {
  "kernelspec": {
   "display_name": "Python 3",
   "language": "python",
   "name": "python3"
  },
  "language_info": {
   "codemirror_mode": {
    "name": "ipython",
    "version": 3
   },
   "file_extension": ".py",
   "mimetype": "text/x-python",
   "name": "python",
   "nbconvert_exporter": "python",
   "pygments_lexer": "ipython3",
   "version": "3.7.6"
  }
 },
 "nbformat": 4,
 "nbformat_minor": 4
}
