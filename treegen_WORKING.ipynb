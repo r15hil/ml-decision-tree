{
 "cells": [
  {
   "cell_type": "code",
   "execution_count": 84,
   "metadata": {},
   "outputs": [],
   "source": [
    "import numpy as np\n",
    "from math import log2\n",
    "from collections import defaultdict\n",
    "import time\n",
    "\n",
    "# class Node:\n",
    "#     def __init__(self, emitter=None, split=None, roomlabel=None):\n",
    "#         self.right = None\n",
    "#         self.left = None\n",
    "#         self.emitter = emitter\n",
    "#         self.split = split\n",
    "#         self.roomlabel = roomlabel"
   ]
  },
  {
   "cell_type": "code",
   "execution_count": 85,
   "metadata": {},
   "outputs": [],
   "source": [
    "def entropy(roomData):\n",
    "    H=0.0\n",
    "    i=0\n",
    "    scoreboard = {1:0, 2:0, 3:0, 4:0}\n",
    "    size = len(roomData)\n",
    "    while i<size:\n",
    "        if roomData[i][-1] == 1:\n",
    "            scoreboard[1]+=1\n",
    "        elif roomData[i][-1] == 2:\n",
    "            scoreboard[2]+=1\n",
    "        elif roomData[i][-1] == 3:\n",
    "            scoreboard[3]+=1\n",
    "        elif roomData[i][-1] == 4:\n",
    "            scoreboard[4]+=1\n",
    "        i+=1;\n",
    "    for i in (1,2,3,4):\n",
    "        if scoreboard[i] > 0:\n",
    "            H += ((-scoreboard[i])/size)*(log2(scoreboard[i]/size))\n",
    "    return H"
   ]
  },
  {
   "cell_type": "code",
   "execution_count": 86,
   "metadata": {},
   "outputs": [],
   "source": [
    "def InfoGain(All, Left, Right):\n",
    "    H_SAll=entropy(All)\n",
    "    Total=len(Left)+len(Right)\n",
    "    Remainder=((len(Left)/Total)*entropy(Left))+((len(Right)/Total)*entropy(Right))\n",
    "    Gains=H_SAll-Remainder\n",
    "    return Gains"
   ]
  },
  {
   "cell_type": "code",
   "execution_count": 87,
   "metadata": {},
   "outputs": [],
   "source": [
    "def FIND_SPLIT(d):\n",
    "    emitter = 0\n",
    "    value = 0\n",
    "    max_info_gain = 0\n",
    "    for x in range(len(d[0])-1):\n",
    "        #d.sort(d,key = lambda y: y[x])\n",
    "        ds = np.array(sorted(d, key = lambda y: y[x], reverse=True))\n",
    "        #print(ds)\n",
    "        for r in range(len(ds)):\n",
    "            \n",
    "            split_point = ds[r][x]\n",
    "            if(r!=len(ds)-1 and ds[r+1][x] == split_point):\n",
    "                continue\n",
    "            info_gain = InfoGain(ds, ds[:r+1],ds[r+1:])\n",
    "            \n",
    "            if(info_gain > max_info_gain):\n",
    "                emitter = x\n",
    "                value = split_point\n",
    "                max_info_gain = info_gain\n",
    "            \n",
    "            \n",
    "        \n",
    "    return emitter, value"
   ]
  },
  {
   "cell_type": "code",
   "execution_count": 88,
   "metadata": {},
   "outputs": [],
   "source": [
    "def split(clean_rows):\n",
    "    Left = []\n",
    "    Right = []\n",
    "    em, val = FIND_SPLIT(clean_rows) #splitvalue[0] = emitter and splitvalue[1] = value under that column\n",
    "    \n",
    "    for i in range(len(clean_rows)):\n",
    "        if(clean_rows[i][em] >= val):\n",
    "            Left.append(clean_rows[i])\n",
    "        \n",
    "        else:\n",
    "            Right.append(clean_rows[i])\n",
    "        \n",
    "    \n",
    "    \n",
    "    return np.array(Left),np.array(Right),em,val"
   ]
  },
  {
   "cell_type": "code",
   "execution_count": 89,
   "metadata": {},
   "outputs": [],
   "source": [
    "def tree_learning(training_data, depth):\n",
    "    if(entropy(training_data) == 0 and len(training_data) != 0):\n",
    "        label = training_data[0][-1]\n",
    "        leaf = {'emitter':None, 'value':None, 'room': label, 'right':None, 'left':None}\n",
    "        return leaf, depth\n",
    "    else:\n",
    "        ldata, rdata, em, val = split(training_data)\n",
    "        root = {'emitter': em, 'value': val, 'room': None, 'right':None, 'left':None}\n",
    "        root['left'], l_depth = tree_learning(ldata, depth+1)\n",
    "        root['right'], r_depth = tree_learning(rdata, depth+1)\n",
    "        return root, max(l_depth, r_depth)"
   ]
  },
  {
   "cell_type": "code",
   "execution_count": 90,
   "metadata": {},
   "outputs": [],
   "source": [
    "# def tree_learning2(training_data):\n",
    "#     if(entropy(training_data) == 0):\n",
    "#         label = training_data[0][-1]\n",
    "#         leaf = Node(roomlabel=label)\n",
    "#         return leaf\n",
    "#     else:\n",
    "#         ldata, rdata, em, val = split(training_data)\n",
    "#         root = Node(emitter=em, split=val)\n",
    "#         root.left = tree_learning2(ldata)\n",
    "#         root.right = tree_learning2(rdata)\n",
    "#         return root"
   ]
  },
  {
   "cell_type": "code",
   "execution_count": 91,
   "metadata": {},
   "outputs": [
    {
     "name": "stdout",
     "output_type": "stream",
     "text": [
      "[[-64. -56. -61. ... -82. -81.   1.]\n",
      " [-68. -57. -61. ... -85. -85.   1.]\n",
      " [-63. -60. -60. ... -85. -84.   1.]\n",
      " ...\n",
      " [-62. -59. -46. ... -87. -88.   4.]\n",
      " [-62. -58. -52. ... -90. -85.   4.]\n",
      " [-59. -50. -45. ... -88. -87.   4.]]\n"
     ]
    }
   ],
   "source": [
    "clean_rows = np.loadtxt(\"clean_dataset.txt\")\n",
    "noisy_rows = np.loadtxt(\"noisy_dataset.txt\")\n",
    "print(clean_rows)"
   ]
  },
  {
   "cell_type": "code",
   "execution_count": 101,
   "metadata": {},
   "outputs": [
    {
     "name": "stdout",
     "output_type": "stream",
     "text": [
      "{'emitter': 0, 'value': -54.0, 'room': None, 'right': {'emitter': 4, 'value': -59.0, 'room': None, 'right': {'emitter': 3, 'value': -55.0, 'room': None, 'right': {'emitter': 2, 'value': -55.0, 'room': None, 'right': {'emitter': 6, 'value': -81.0, 'room': None, 'right': {'emitter': 6, 'value': -86.0, 'room': None, 'right': {'emitter': 2, 'value': -61.0, 'room': None, 'right': {'emitter': 4, 'value': -65.0, 'room': None, 'right': {'emitter': 4, 'value': -82.0, 'room': None, 'right': {'emitter': 0, 'value': -64.0, 'room': None, 'right': {'emitter': None, 'value': None, 'room': 3.0, 'right': None, 'left': None}, 'left': {'emitter': None, 'value': None, 'room': 1.0, 'right': None, 'left': None}}, 'left': {'emitter': 4, 'value': -76.0, 'room': None, 'right': {'emitter': None, 'value': None, 'room': 1.0, 'right': None, 'left': None}, 'left': {'emitter': 0, 'value': -71.0, 'room': None, 'right': {'emitter': None, 'value': None, 'room': 4.0, 'right': None, 'left': None}, 'left': {'emitter': 2, 'value': -64.0, 'room': None, 'right': {'emitter': 3, 'value': -65.0, 'room': None, 'right': {'emitter': 0, 'value': -63.0, 'room': None, 'right': {'emitter': None, 'value': None, 'room': 1.0, 'right': None, 'left': None}, 'left': {'emitter': 2, 'value': -65.0, 'room': None, 'right': {'emitter': None, 'value': None, 'room': 1.0, 'right': None, 'left': None}, 'left': {'emitter': None, 'value': None, 'room': 2.0, 'right': None, 'left': None}}}, 'left': {'emitter': None, 'value': None, 'room': 1.0, 'right': None, 'left': None}}, 'left': {'emitter': 3, 'value': -61.0, 'room': None, 'right': {'emitter': 2, 'value': -63.0, 'room': None, 'right': {'emitter': 0, 'value': -63.0, 'room': None, 'right': {'emitter': None, 'value': None, 'room': 1.0, 'right': None, 'left': None}, 'left': {'emitter': 1, 'value': -58.0, 'room': None, 'right': {'emitter': None, 'value': None, 'room': 1.0, 'right': None, 'left': None}, 'left': {'emitter': None, 'value': None, 'room': 4.0, 'right': None, 'left': None}}}, 'left': {'emitter': None, 'value': None, 'room': 1.0, 'right': None, 'left': None}}, 'left': {'emitter': 5, 'value': -80.0, 'room': None, 'right': {'emitter': 0, 'value': -61.0, 'room': None, 'right': {'emitter': 2, 'value': -62.0, 'room': None, 'right': {'emitter': None, 'value': None, 'room': 1.0, 'right': None, 'left': None}, 'left': {'emitter': None, 'value': None, 'room': 4.0, 'right': None, 'left': None}}, 'left': {'emitter': None, 'value': None, 'room': 4.0, 'right': None, 'left': None}}, 'left': {'emitter': None, 'value': None, 'room': 1.0, 'right': None, 'left': None}}}}}}}, 'left': {'emitter': None, 'value': None, 'room': 3.0, 'right': None, 'left': None}}, 'left': {'emitter': 4, 'value': -70.0, 'room': None, 'right': {'emitter': 2, 'value': -60.0, 'room': None, 'right': {'emitter': 0, 'value': -63.0, 'room': None, 'right': {'emitter': None, 'value': None, 'room': 3.0, 'right': None, 'left': None}, 'left': {'emitter': None, 'value': None, 'room': 1.0, 'right': None, 'left': None}}, 'left': {'emitter': 3, 'value': -67.0, 'room': None, 'right': {'emitter': None, 'value': None, 'room': 2.0, 'right': None, 'left': None}, 'left': {'emitter': 4, 'value': -72.0, 'room': None, 'right': {'emitter': None, 'value': None, 'room': 1.0, 'right': None, 'left': None}, 'left': {'emitter': 1, 'value': -55.0, 'room': None, 'right': {'emitter': 3, 'value': -65.0, 'room': None, 'right': {'emitter': None, 'value': None, 'room': 1.0, 'right': None, 'left': None}, 'left': {'emitter': None, 'value': None, 'room': 2.0, 'right': None, 'left': None}}, 'left': {'emitter': None, 'value': None, 'room': 1.0, 'right': None, 'left': None}}}}}, 'left': {'emitter': 1, 'value': -51.0, 'room': None, 'right': {'emitter': None, 'value': None, 'room': 1.0, 'right': None, 'left': None}, 'left': {'emitter': 2, 'value': -59.0, 'room': None, 'right': {'emitter': 0, 'value': -58.0, 'room': None, 'right': {'emitter': None, 'value': None, 'room': 3.0, 'right': None, 'left': None}, 'left': {'emitter': None, 'value': None, 'room': 1.0, 'right': None, 'left': None}}, 'left': {'emitter': None, 'value': None, 'room': 1.0, 'right': None, 'left': None}}}}}, 'left': {'emitter': 6, 'value': -82.0, 'room': None, 'right': {'emitter': 1, 'value': -55.0, 'room': None, 'right': {'emitter': 0, 'value': -66.0, 'room': None, 'right': {'emitter': 2, 'value': -66.0, 'room': None, 'right': {'emitter': 2, 'value': -67.0, 'room': None, 'right': {'emitter': 0, 'value': -68.0, 'room': None, 'right': {'emitter': None, 'value': None, 'room': 1.0, 'right': None, 'left': None}, 'left': {'emitter': None, 'value': None, 'room': 3.0, 'right': None, 'left': None}}, 'left': {'emitter': None, 'value': None, 'room': 2.0, 'right': None, 'left': None}}, 'left': {'emitter': 3, 'value': -62.0, 'room': None, 'right': {'emitter': 4, 'value': -76.0, 'room': None, 'right': {'emitter': 1, 'value': -57.0, 'room': None, 'right': {'emitter': None, 'value': None, 'room': 1.0, 'right': None, 'left': None}, 'left': {'emitter': 2, 'value': -62.0, 'room': None, 'right': {'emitter': None, 'value': None, 'room': 3.0, 'right': None, 'left': None}, 'left': {'emitter': None, 'value': None, 'room': 1.0, 'right': None, 'left': None}}}, 'left': {'emitter': None, 'value': None, 'room': 1.0, 'right': None, 'left': None}}, 'left': {'emitter': None, 'value': None, 'room': 2.0, 'right': None, 'left': None}}}, 'left': {'emitter': 5, 'value': -85.0, 'room': None, 'right': {'emitter': 0, 'value': -62.0, 'room': None, 'right': {'emitter': None, 'value': None, 'room': 1.0, 'right': None, 'left': None}, 'left': {'emitter': 2, 'value': -58.0, 'room': None, 'right': {'emitter': None, 'value': None, 'room': 1.0, 'right': None, 'left': None}, 'left': {'emitter': None, 'value': None, 'room': 2.0, 'right': None, 'left': None}}}, 'left': {'emitter': 3, 'value': -59.0, 'room': None, 'right': {'emitter': 1, 'value': -59.0, 'room': None, 'right': {'emitter': None, 'value': None, 'room': 1.0, 'right': None, 'left': None}, 'left': {'emitter': 2, 'value': -64.0, 'room': None, 'right': {'emitter': 0, 'value': -65.0, 'room': None, 'right': {'emitter': None, 'value': None, 'room': 3.0, 'right': None, 'left': None}, 'left': {'emitter': 3, 'value': -63.0, 'room': None, 'right': {'emitter': None, 'value': None, 'room': 1.0, 'right': None, 'left': None}, 'left': {'emitter': 0, 'value': -58.0, 'room': None, 'right': {'emitter': 0, 'value': -60.0, 'room': None, 'right': {'emitter': 0, 'value': -62.0, 'room': None, 'right': {'emitter': None, 'value': None, 'room': 3.0, 'right': None, 'left': None}, 'left': {'emitter': None, 'value': None, 'room': 1.0, 'right': None, 'left': None}}, 'left': {'emitter': None, 'value': None, 'room': 3.0, 'right': None, 'left': None}}, 'left': {'emitter': None, 'value': None, 'room': 1.0, 'right': None, 'left': None}}}}, 'left': {'emitter': 4, 'value': -67.0, 'room': None, 'right': {'emitter': 6, 'value': -83.0, 'room': None, 'right': {'emitter': None, 'value': None, 'room': 1.0, 'right': None, 'left': None}, 'left': {'emitter': 5, 'value': -81.0, 'room': None, 'right': {'emitter': 2, 'value': -59.0, 'room': None, 'right': {'emitter': None, 'value': None, 'room': 1.0, 'right': None, 'left': None}, 'left': {'emitter': None, 'value': None, 'room': 3.0, 'right': None, 'left': None}}, 'left': {'emitter': None, 'value': None, 'room': 1.0, 'right': None, 'left': None}}}, 'left': {'emitter': 0, 'value': -60.0, 'room': None, 'right': {'emitter': 0, 'value': -61.0, 'room': None, 'right': {'emitter': 1, 'value': -56.0, 'room': None, 'right': {'emitter': None, 'value': None, 'room': 1.0, 'right': None, 'left': None}, 'left': {'emitter': 2, 'value': -60.0, 'room': None, 'right': {'emitter': None, 'value': None, 'room': 1.0, 'right': None, 'left': None}, 'left': {'emitter': None, 'value': None, 'room': 3.0, 'right': None, 'left': None}}}, 'left': {'emitter': None, 'value': None, 'room': 3.0, 'right': None, 'left': None}}, 'left': {'emitter': None, 'value': None, 'room': 1.0, 'right': None, 'left': None}}}}}, 'left': {'emitter': 1, 'value': -58.0, 'room': None, 'right': {'emitter': None, 'value': None, 'room': 2.0, 'right': None, 'left': None}, 'left': {'emitter': None, 'value': None, 'room': 1.0, 'right': None, 'left': None}}}}}, 'left': {'emitter': 2, 'value': -58.0, 'room': None, 'right': {'emitter': None, 'value': None, 'room': 1.0, 'right': None, 'left': None}, 'left': {'emitter': 2, 'value': -57.0, 'room': None, 'right': {'emitter': 1, 'value': -53.0, 'room': None, 'right': {'emitter': 0, 'value': -58.0, 'room': None, 'right': {'emitter': 0, 'value': -62.0, 'room': None, 'right': {'emitter': None, 'value': None, 'room': 1.0, 'right': None, 'left': None}, 'left': {'emitter': None, 'value': None, 'room': 2.0, 'right': None, 'left': None}}, 'left': {'emitter': None, 'value': None, 'room': 1.0, 'right': None, 'left': None}}, 'left': {'emitter': None, 'value': None, 'room': 1.0, 'right': None, 'left': None}}, 'left': {'emitter': None, 'value': None, 'room': 1.0, 'right': None, 'left': None}}}}, 'left': {'emitter': None, 'value': None, 'room': 1.0, 'right': None, 'left': None}}}, 'left': {'emitter': 4, 'value': -71.0, 'room': None, 'right': {'emitter': 5, 'value': -81.0, 'room': None, 'right': {'emitter': None, 'value': None, 'room': 1.0, 'right': None, 'left': None}, 'left': {'emitter': 0, 'value': -58.0, 'room': None, 'right': {'emitter': 1, 'value': -55.0, 'room': None, 'right': {'emitter': 2, 'value': -57.0, 'room': None, 'right': {'emitter': None, 'value': None, 'room': 4.0, 'right': None, 'left': None}, 'left': {'emitter': None, 'value': None, 'room': 1.0, 'right': None, 'left': None}}, 'left': {'emitter': 2, 'value': -59.0, 'room': None, 'right': {'emitter': None, 'value': None, 'room': 1.0, 'right': None, 'left': None}, 'left': {'emitter': 0, 'value': -59.0, 'room': None, 'right': {'emitter': None, 'value': None, 'room': 1.0, 'right': None, 'left': None}, 'left': {'emitter': None, 'value': None, 'room': 3.0, 'right': None, 'left': None}}}}, 'left': {'emitter': 1, 'value': -54.0, 'room': None, 'right': {'emitter': None, 'value': None, 'room': 3.0, 'right': None, 'left': None}, 'left': {'emitter': None, 'value': None, 'room': 4.0, 'right': None, 'left': None}}}}, 'left': {'emitter': 5, 'value': -77.0, 'room': None, 'right': {'emitter': 5, 'value': -82.0, 'room': None, 'right': {'emitter': 5, 'value': -83.0, 'room': None, 'right': {'emitter': None, 'value': None, 'room': 1.0, 'right': None, 'left': None}, 'left': {'emitter': 0, 'value': -61.0, 'room': None, 'right': {'emitter': None, 'value': None, 'room': 1.0, 'right': None, 'left': None}, 'left': {'emitter': None, 'value': None, 'room': 4.0, 'right': None, 'left': None}}}, 'left': {'emitter': 0, 'value': -62.0, 'room': None, 'right': {'emitter': 1, 'value': -52.0, 'room': None, 'right': {'emitter': 4, 'value': -70.0, 'room': None, 'right': {'emitter': None, 'value': None, 'room': 2.0, 'right': None, 'left': None}, 'left': {'emitter': None, 'value': None, 'room': 1.0, 'right': None, 'left': None}}, 'left': {'emitter': None, 'value': None, 'room': 2.0, 'right': None, 'left': None}}, 'left': {'emitter': 3, 'value': -62.0, 'room': None, 'right': {'emitter': None, 'value': None, 'room': 1.0, 'right': None, 'left': None}, 'left': {'emitter': 5, 'value': -80.0, 'room': None, 'right': {'emitter': None, 'value': None, 'room': 1.0, 'right': None, 'left': None}, 'left': {'emitter': 3, 'value': -61.0, 'room': None, 'right': {'emitter': 0, 'value': -58.0, 'room': None, 'right': {'emitter': 1, 'value': -57.0, 'room': None, 'right': {'emitter': 0, 'value': -59.0, 'room': None, 'right': {'emitter': None, 'value': None, 'room': 2.0, 'right': None, 'left': None}, 'left': {'emitter': None, 'value': None, 'room': 1.0, 'right': None, 'left': None}}, 'left': {'emitter': None, 'value': None, 'room': 1.0, 'right': None, 'left': None}}, 'left': {'emitter': None, 'value': None, 'room': 2.0, 'right': None, 'left': None}}, 'left': {'emitter': 1, 'value': -56.0, 'room': None, 'right': {'emitter': 1, 'value': -57.0, 'room': None, 'right': {'emitter': None, 'value': None, 'room': 1.0, 'right': None, 'left': None}, 'left': {'emitter': None, 'value': None, 'room': 2.0, 'right': None, 'left': None}}, 'left': {'emitter': None, 'value': None, 'room': 1.0, 'right': None, 'left': None}}}}}}}, 'left': {'emitter': 1, 'value': -53.0, 'room': None, 'right': {'emitter': 6, 'value': -79.0, 'room': None, 'right': {'emitter': 3, 'value': -65.0, 'room': None, 'right': {'emitter': None, 'value': None, 'room': 1.0, 'right': None, 'left': None}, 'left': {'emitter': None, 'value': None, 'room': 4.0, 'right': None, 'left': None}}, 'left': {'emitter': None, 'value': None, 'room': 1.0, 'right': None, 'left': None}}, 'left': {'emitter': None, 'value': None, 'room': 1.0, 'right': None, 'left': None}}}}}, 'left': {'emitter': 3, 'value': -58.0, 'room': None, 'right': {'emitter': 5, 'value': -81.0, 'room': None, 'right': {'emitter': 3, 'value': -60.0, 'room': None, 'right': {'emitter': 2, 'value': -54.0, 'room': None, 'right': {'emitter': 0, 'value': -63.0, 'room': None, 'right': {'emitter': None, 'value': None, 'room': 1.0, 'right': None, 'left': None}, 'left': {'emitter': 6, 'value': -87.0, 'room': None, 'right': {'emitter': None, 'value': None, 'room': 4.0, 'right': None, 'left': None}, 'left': {'emitter': 4, 'value': -71.0, 'room': None, 'right': {'emitter': None, 'value': None, 'room': 4.0, 'right': None, 'left': None}, 'left': {'emitter': None, 'value': None, 'room': 1.0, 'right': None, 'left': None}}}}, 'left': {'emitter': None, 'value': None, 'room': 1.0, 'right': None, 'left': None}}, 'left': {'emitter': None, 'value': None, 'room': 4.0, 'right': None, 'left': None}}, 'left': {'emitter': 0, 'value': -58.0, 'room': None, 'right': {'emitter': None, 'value': None, 'room': 1.0, 'right': None, 'left': None}, 'left': {'emitter': 1, 'value': -54.0, 'room': None, 'right': {'emitter': None, 'value': None, 'room': 2.0, 'right': None, 'left': None}, 'left': {'emitter': None, 'value': None, 'room': 1.0, 'right': None, 'left': None}}}}, 'left': {'emitter': 1, 'value': -50.0, 'room': None, 'right': {'emitter': 1, 'value': -53.0, 'room': None, 'right': {'emitter': None, 'value': None, 'room': 4.0, 'right': None, 'left': None}, 'left': {'emitter': None, 'value': None, 'room': 3.0, 'right': None, 'left': None}}, 'left': {'emitter': None, 'value': None, 'room': 1.0, 'right': None, 'left': None}}}}, 'left': {'emitter': 1, 'value': -50.0, 'room': None, 'right': {'emitter': None, 'value': None, 'room': 3.0, 'right': None, 'left': None}, 'left': {'emitter': 0, 'value': -58.0, 'room': None, 'right': {'emitter': None, 'value': None, 'room': 3.0, 'right': None, 'left': None}, 'left': {'emitter': None, 'value': None, 'room': 1.0, 'right': None, 'left': None}}}}, 'left': {'emitter': 4, 'value': -56.0, 'room': None, 'right': {'emitter': 3, 'value': -58.0, 'room': None, 'right': {'emitter': None, 'value': None, 'room': 4.0, 'right': None, 'left': None}, 'left': {'emitter': None, 'value': None, 'room': 3.0, 'right': None, 'left': None}}, 'left': {'emitter': 0, 'value': -57.0, 'room': None, 'right': {'emitter': 2, 'value': -46.0, 'room': None, 'right': {'emitter': 1, 'value': -56.0, 'room': None, 'right': {'emitter': 0, 'value': -59.0, 'room': None, 'right': {'emitter': 4, 'value': -47.0, 'room': None, 'right': {'emitter': 5, 'value': -85.0, 'room': None, 'right': {'emitter': 5, 'value': -92.0, 'room': None, 'right': {'emitter': 0, 'value': -63.0, 'room': None, 'right': {'emitter': None, 'value': None, 'room': 2.0, 'right': None, 'left': None}, 'left': {'emitter': 0, 'value': -61.0, 'room': None, 'right': {'emitter': 2, 'value': -51.0, 'room': None, 'right': {'emitter': None, 'value': None, 'room': 1.0, 'right': None, 'left': None}, 'left': {'emitter': 6, 'value': -84.0, 'room': None, 'right': {'emitter': None, 'value': None, 'room': 4.0, 'right': None, 'left': None}, 'left': {'emitter': None, 'value': None, 'room': 1.0, 'right': None, 'left': None}}}, 'left': {'emitter': 3, 'value': -64.0, 'room': None, 'right': {'emitter': None, 'value': None, 'room': 4.0, 'right': None, 'left': None}, 'left': {'emitter': 0, 'value': -60.0, 'room': None, 'right': {'emitter': None, 'value': None, 'room': 4.0, 'right': None, 'left': None}, 'left': {'emitter': None, 'value': None, 'room': 2.0, 'right': None, 'left': None}}}}}, 'left': {'emitter': 0, 'value': -64.0, 'room': None, 'right': {'emitter': 3, 'value': -61.0, 'room': None, 'right': {'emitter': 3, 'value': -67.0, 'room': None, 'right': {'emitter': None, 'value': None, 'room': 1.0, 'right': None, 'left': None}, 'left': {'emitter': 4, 'value': -51.0, 'room': None, 'right': {'emitter': None, 'value': None, 'room': 1.0, 'right': None, 'left': None}, 'left': {'emitter': None, 'value': None, 'room': 4.0, 'right': None, 'left': None}}}, 'left': {'emitter': None, 'value': None, 'room': 1.0, 'right': None, 'left': None}}, 'left': {'emitter': None, 'value': None, 'room': 4.0, 'right': None, 'left': None}}}, 'left': {'emitter': 6, 'value': -89.0, 'room': None, 'right': {'emitter': 0, 'value': -61.0, 'room': None, 'right': {'emitter': None, 'value': None, 'room': 1.0, 'right': None, 'left': None}, 'left': {'emitter': None, 'value': None, 'room': 2.0, 'right': None, 'left': None}}, 'left': {'emitter': 3, 'value': -55.0, 'room': None, 'right': {'emitter': 1, 'value': -58.0, 'room': None, 'right': {'emitter': 0, 'value': -60.0, 'room': None, 'right': {'emitter': None, 'value': None, 'room': 1.0, 'right': None, 'left': None}, 'left': {'emitter': None, 'value': None, 'room': 4.0, 'right': None, 'left': None}}, 'left': {'emitter': None, 'value': None, 'room': 4.0, 'right': None, 'left': None}}, 'left': {'emitter': None, 'value': None, 'room': 1.0, 'right': None, 'left': None}}}}, 'left': {'emitter': 0, 'value': -66.0, 'room': None, 'right': {'emitter': None, 'value': None, 'room': 1.0, 'right': None, 'left': None}, 'left': {'emitter': 3, 'value': -69.0, 'room': None, 'right': {'emitter': 2, 'value': -53.0, 'room': None, 'right': {'emitter': None, 'value': None, 'room': 4.0, 'right': None, 'left': None}, 'left': {'emitter': None, 'value': None, 'room': 2.0, 'right': None, 'left': None}}, 'left': {'emitter': 3, 'value': -56.0, 'room': None, 'right': {'emitter': 3, 'value': -68.0, 'room': None, 'right': {'emitter': 0, 'value': -62.0, 'room': None, 'right': {'emitter': 0, 'value': -63.0, 'room': None, 'right': {'emitter': None, 'value': None, 'room': 4.0, 'right': None, 'left': None}, 'left': {'emitter': None, 'value': None, 'room': 3.0, 'right': None, 'left': None}}, 'left': {'emitter': None, 'value': None, 'room': 4.0, 'right': None, 'left': None}}, 'left': {'emitter': None, 'value': None, 'room': 4.0, 'right': None, 'left': None}}, 'left': {'emitter': None, 'value': None, 'room': 3.0, 'right': None, 'left': None}}}}}, 'left': {'emitter': 4, 'value': -51.0, 'room': None, 'right': {'emitter': 0, 'value': -58.0, 'room': None, 'right': {'emitter': None, 'value': None, 'room': 4.0, 'right': None, 'left': None}, 'left': {'emitter': None, 'value': None, 'room': 3.0, 'right': None, 'left': None}}, 'left': {'emitter': None, 'value': None, 'room': 4.0, 'right': None, 'left': None}}}, 'left': {'emitter': 4, 'value': -51.0, 'room': None, 'right': {'emitter': 1, 'value': -53.0, 'room': None, 'right': {'emitter': 5, 'value': -82.0, 'room': None, 'right': {'emitter': None, 'value': None, 'room': 4.0, 'right': None, 'left': None}, 'left': {'emitter': 3, 'value': -60.0, 'room': None, 'right': {'emitter': None, 'value': None, 'room': 3.0, 'right': None, 'left': None}, 'left': {'emitter': None, 'value': None, 'room': 4.0, 'right': None, 'left': None}}}, 'left': {'emitter': 4, 'value': -52.0, 'room': None, 'right': {'emitter': 6, 'value': -89.0, 'room': None, 'right': {'emitter': None, 'value': None, 'room': 3.0, 'right': None, 'left': None}, 'left': {'emitter': 5, 'value': -86.0, 'room': None, 'right': {'emitter': 6, 'value': -83.0, 'room': None, 'right': {'emitter': 6, 'value': -87.0, 'room': None, 'right': {'emitter': 2, 'value': -49.0, 'room': None, 'right': {'emitter': 2, 'value': -54.0, 'room': None, 'right': {'emitter': 5, 'value': -88.0, 'room': None, 'right': {'emitter': None, 'value': None, 'room': 3.0, 'right': None, 'left': None}, 'left': {'emitter': None, 'value': None, 'room': 4.0, 'right': None, 'left': None}}, 'left': {'emitter': None, 'value': None, 'room': 3.0, 'right': None, 'left': None}}, 'left': {'emitter': None, 'value': None, 'room': 4.0, 'right': None, 'left': None}}, 'left': {'emitter': None, 'value': None, 'room': 4.0, 'right': None, 'left': None}}, 'left': {'emitter': None, 'value': None, 'room': 3.0, 'right': None, 'left': None}}, 'left': {'emitter': None, 'value': None, 'room': 4.0, 'right': None, 'left': None}}}, 'left': {'emitter': 3, 'value': -59.0, 'room': None, 'right': {'emitter': 0, 'value': -58.0, 'room': None, 'right': {'emitter': None, 'value': None, 'room': 1.0, 'right': None, 'left': None}, 'left': {'emitter': 2, 'value': -57.0, 'room': None, 'right': {'emitter': None, 'value': None, 'room': 1.0, 'right': None, 'left': None}, 'left': {'emitter': None, 'value': None, 'room': 4.0, 'right': None, 'left': None}}}, 'left': {'emitter': None, 'value': None, 'room': 4.0, 'right': None, 'left': None}}}}, 'left': {'emitter': 2, 'value': -51.0, 'room': None, 'right': {'emitter': 6, 'value': -87.0, 'room': None, 'right': {'emitter': 5, 'value': -87.0, 'room': None, 'right': {'emitter': None, 'value': None, 'room': 4.0, 'right': None, 'left': None}, 'left': {'emitter': 4, 'value': -48.0, 'room': None, 'right': {'emitter': 0, 'value': -60.0, 'room': None, 'right': {'emitter': None, 'value': None, 'room': 2.0, 'right': None, 'left': None}, 'left': {'emitter': 4, 'value': -50.0, 'room': None, 'right': {'emitter': 2, 'value': -56.0, 'room': None, 'right': {'emitter': None, 'value': None, 'room': 2.0, 'right': None, 'left': None}, 'left': {'emitter': None, 'value': None, 'room': 4.0, 'right': None, 'left': None}}, 'left': {'emitter': None, 'value': None, 'room': 4.0, 'right': None, 'left': None}}}, 'left': {'emitter': None, 'value': None, 'room': 4.0, 'right': None, 'left': None}}}, 'left': {'emitter': 6, 'value': -86.0, 'room': None, 'right': {'emitter': 1, 'value': -52.0, 'room': None, 'right': {'emitter': None, 'value': None, 'room': 4.0, 'right': None, 'left': None}, 'left': {'emitter': None, 'value': None, 'room': 3.0, 'right': None, 'left': None}}, 'left': {'emitter': None, 'value': None, 'room': 4.0, 'right': None, 'left': None}}}, 'left': {'emitter': 2, 'value': -50.0, 'room': None, 'right': {'emitter': 6, 'value': -88.0, 'room': None, 'right': {'emitter': None, 'value': None, 'room': 4.0, 'right': None, 'left': None}, 'left': {'emitter': 0, 'value': -60.0, 'room': None, 'right': {'emitter': None, 'value': None, 'room': 3.0, 'right': None, 'left': None}, 'left': {'emitter': 0, 'value': -58.0, 'room': None, 'right': {'emitter': None, 'value': None, 'room': 4.0, 'right': None, 'left': None}, 'left': {'emitter': 1, 'value': -52.0, 'room': None, 'right': {'emitter': None, 'value': None, 'room': 4.0, 'right': None, 'left': None}, 'left': {'emitter': None, 'value': None, 'room': 3.0, 'right': None, 'left': None}}}}}, 'left': {'emitter': 4, 'value': -46.0, 'room': None, 'right': {'emitter': None, 'value': None, 'room': 4.0, 'right': None, 'left': None}, 'left': {'emitter': 0, 'value': -59.0, 'room': None, 'right': {'emitter': None, 'value': None, 'room': 4.0, 'right': None, 'left': None}, 'left': {'emitter': 4, 'value': -45.0, 'room': None, 'right': {'emitter': 1, 'value': -54.0, 'room': None, 'right': {'emitter': None, 'value': None, 'room': 4.0, 'right': None, 'left': None}, 'left': {'emitter': None, 'value': None, 'room': 3.0, 'right': None, 'left': None}}, 'left': {'emitter': None, 'value': None, 'room': 4.0, 'right': None, 'left': None}}}}}}}}, 'left': {'emitter': 5, 'value': -89.0, 'room': None, 'right': {'emitter': None, 'value': None, 'room': 4.0, 'right': None, 'left': None}, 'left': {'emitter': 3, 'value': -66.0, 'room': None, 'right': {'emitter': None, 'value': None, 'room': 1.0, 'right': None, 'left': None}, 'left': {'emitter': 6, 'value': -92.0, 'room': None, 'right': {'emitter': None, 'value': None, 'room': 1.0, 'right': None, 'left': None}, 'left': {'emitter': 0, 'value': -58.0, 'room': None, 'right': {'emitter': 6, 'value': -87.0, 'room': None, 'right': {'emitter': None, 'value': None, 'room': 4.0, 'right': None, 'left': None}, 'left': {'emitter': 1, 'value': -49.0, 'room': None, 'right': {'emitter': 6, 'value': -85.0, 'room': None, 'right': {'emitter': 1, 'value': -56.0, 'room': None, 'right': {'emitter': None, 'value': None, 'room': 1.0, 'right': None, 'left': None}, 'left': {'emitter': 3, 'value': -56.0, 'room': None, 'right': {'emitter': 0, 'value': -61.0, 'room': None, 'right': {'emitter': 0, 'value': -65.0, 'room': None, 'right': {'emitter': None, 'value': None, 'room': 4.0, 'right': None, 'left': None}, 'left': {'emitter': 3, 'value': -64.0, 'room': None, 'right': {'emitter': None, 'value': None, 'room': 4.0, 'right': None, 'left': None}, 'left': {'emitter': None, 'value': None, 'room': 1.0, 'right': None, 'left': None}}}, 'left': {'emitter': None, 'value': None, 'room': 4.0, 'right': None, 'left': None}}, 'left': {'emitter': None, 'value': None, 'room': 1.0, 'right': None, 'left': None}}}, 'left': {'emitter': None, 'value': None, 'room': 4.0, 'right': None, 'left': None}}, 'left': {'emitter': None, 'value': None, 'room': 1.0, 'right': None, 'left': None}}}, 'left': {'emitter': None, 'value': None, 'room': 4.0, 'right': None, 'left': None}}}}}}, 'left': {'emitter': 1, 'value': -52.0, 'room': None, 'right': {'emitter': 6, 'value': -87.0, 'room': None, 'right': {'emitter': 0, 'value': -55.0, 'room': None, 'right': {'emitter': 4, 'value': -53.0, 'room': None, 'right': {'emitter': None, 'value': None, 'room': 2.0, 'right': None, 'left': None}, 'left': {'emitter': None, 'value': None, 'room': 4.0, 'right': None, 'left': None}}, 'left': {'emitter': None, 'value': None, 'room': 2.0, 'right': None, 'left': None}}, 'left': {'emitter': None, 'value': None, 'room': 4.0, 'right': None, 'left': None}}, 'left': {'emitter': 5, 'value': -87.0, 'room': None, 'right': {'emitter': None, 'value': None, 'room': 4.0, 'right': None, 'left': None}, 'left': {'emitter': 2, 'value': -51.0, 'room': None, 'right': {'emitter': None, 'value': None, 'room': 2.0, 'right': None, 'left': None}, 'left': {'emitter': 0, 'value': -56.0, 'room': None, 'right': {'emitter': 2, 'value': -48.0, 'room': None, 'right': {'emitter': None, 'value': None, 'room': 4.0, 'right': None, 'left': None}, 'left': {'emitter': None, 'value': None, 'room': 1.0, 'right': None, 'left': None}}, 'left': {'emitter': 4, 'value': -43.0, 'room': None, 'right': {'emitter': None, 'value': None, 'room': 4.0, 'right': None, 'left': None}, 'left': {'emitter': None, 'value': None, 'room': 2.0, 'right': None, 'left': None}}}}}}}}}, 'left': {'emitter': 0, 'value': -44.0, 'room': None, 'right': {'emitter': 4, 'value': -70.0, 'room': None, 'right': {'emitter': 3, 'value': -49.0, 'room': None, 'right': {'emitter': 4, 'value': -72.0, 'room': None, 'right': {'emitter': 1, 'value': -52.0, 'room': None, 'right': {'emitter': None, 'value': None, 'room': 4.0, 'right': None, 'left': None}, 'left': {'emitter': None, 'value': None, 'room': 3.0, 'right': None, 'left': None}}, 'left': {'emitter': None, 'value': None, 'room': 3.0, 'right': None, 'left': None}}, 'left': {'emitter': 1, 'value': -58.0, 'room': None, 'right': {'emitter': 3, 'value': -44.0, 'room': None, 'right': {'emitter': 0, 'value': -47.0, 'room': None, 'right': {'emitter': None, 'value': None, 'room': 3.0, 'right': None, 'left': None}, 'left': {'emitter': None, 'value': None, 'room': 1.0, 'right': None, 'left': None}}, 'left': {'emitter': None, 'value': None, 'room': 2.0, 'right': None, 'left': None}}, 'left': {'emitter': None, 'value': None, 'room': 2.0, 'right': None, 'left': None}}}, 'left': {'emitter': 3, 'value': -39.0, 'room': None, 'right': {'emitter': 2, 'value': -53.0, 'room': None, 'right': {'emitter': 5, 'value': -77.0, 'room': None, 'right': {'emitter': 5, 'value': -84.0, 'room': None, 'right': {'emitter': 3, 'value': -47.0, 'room': None, 'right': {'emitter': 5, 'value': -86.0, 'room': None, 'right': {'emitter': 6, 'value': -80.0, 'room': None, 'right': {'emitter': 1, 'value': -56.0, 'room': None, 'right': {'emitter': 1, 'value': -57.0, 'room': None, 'right': {'emitter': None, 'value': None, 'room': 3.0, 'right': None, 'left': None}, 'left': {'emitter': None, 'value': None, 'room': 1.0, 'right': None, 'left': None}}, 'left': {'emitter': None, 'value': None, 'room': 3.0, 'right': None, 'left': None}}, 'left': {'emitter': 1, 'value': -55.0, 'room': None, 'right': {'emitter': None, 'value': None, 'room': 2.0, 'right': None, 'left': None}, 'left': {'emitter': None, 'value': None, 'room': 3.0, 'right': None, 'left': None}}}, 'left': {'emitter': 4, 'value': -57.0, 'room': None, 'right': {'emitter': 1, 'value': -60.0, 'room': None, 'right': {'emitter': 1, 'value': -62.0, 'room': None, 'right': {'emitter': None, 'value': None, 'room': 3.0, 'right': None, 'left': None}, 'left': {'emitter': 3, 'value': -50.0, 'room': None, 'right': {'emitter': None, 'value': None, 'room': 4.0, 'right': None, 'left': None}, 'left': {'emitter': None, 'value': None, 'room': 3.0, 'right': None, 'left': None}}}, 'left': {'emitter': None, 'value': None, 'room': 3.0, 'right': None, 'left': None}}, 'left': {'emitter': 1, 'value': -50.0, 'room': None, 'right': {'emitter': None, 'value': None, 'room': 4.0, 'right': None, 'left': None}, 'left': {'emitter': None, 'value': None, 'room': 3.0, 'right': None, 'left': None}}}}, 'left': {'emitter': 3, 'value': -45.0, 'room': None, 'right': {'emitter': None, 'value': None, 'room': 2.0, 'right': None, 'left': None}, 'left': {'emitter': 0, 'value': -45.0, 'room': None, 'right': {'emitter': 1, 'value': -53.0, 'room': None, 'right': {'emitter': None, 'value': None, 'room': 1.0, 'right': None, 'left': None}, 'left': {'emitter': None, 'value': None, 'room': 3.0, 'right': None, 'left': None}}, 'left': {'emitter': None, 'value': None, 'room': 2.0, 'right': None, 'left': None}}}}, 'left': {'emitter': 6, 'value': -77.0, 'room': None, 'right': {'emitter': 4, 'value': -57.0, 'room': None, 'right': {'emitter': 3, 'value': -45.0, 'room': None, 'right': {'emitter': None, 'value': None, 'room': 3.0, 'right': None, 'left': None}, 'left': {'emitter': 0, 'value': -47.0, 'room': None, 'right': {'emitter': None, 'value': None, 'room': 3.0, 'right': None, 'left': None}, 'left': {'emitter': 3, 'value': -44.0, 'room': None, 'right': {'emitter': None, 'value': None, 'room': 2.0, 'right': None, 'left': None}, 'left': {'emitter': None, 'value': None, 'room': 3.0, 'right': None, 'left': None}}}}, 'left': {'emitter': 0, 'value': -49.0, 'room': None, 'right': {'emitter': None, 'value': None, 'room': 1.0, 'right': None, 'left': None}, 'left': {'emitter': None, 'value': None, 'room': 3.0, 'right': None, 'left': None}}}, 'left': {'emitter': 2, 'value': -58.0, 'room': None, 'right': {'emitter': None, 'value': None, 'room': 2.0, 'right': None, 'left': None}, 'left': {'emitter': 3, 'value': -51.0, 'room': None, 'right': {'emitter': 4, 'value': -63.0, 'room': None, 'right': {'emitter': None, 'value': None, 'room': 3.0, 'right': None, 'left': None}, 'left': {'emitter': None, 'value': None, 'room': 2.0, 'right': None, 'left': None}}, 'left': {'emitter': None, 'value': None, 'room': 3.0, 'right': None, 'left': None}}}}}, 'left': {'emitter': 4, 'value': -67.0, 'room': None, 'right': {'emitter': None, 'value': None, 'room': 2.0, 'right': None, 'left': None}, 'left': {'emitter': 6, 'value': -73.0, 'room': None, 'right': {'emitter': 4, 'value': -64.0, 'room': None, 'right': {'emitter': 0, 'value': -49.0, 'room': None, 'right': {'emitter': None, 'value': None, 'room': 3.0, 'right': None, 'left': None}, 'left': {'emitter': 6, 'value': -84.0, 'room': None, 'right': {'emitter': None, 'value': None, 'room': 3.0, 'right': None, 'left': None}, 'left': {'emitter': None, 'value': None, 'room': 2.0, 'right': None, 'left': None}}}, 'left': {'emitter': None, 'value': None, 'room': 3.0, 'right': None, 'left': None}}, 'left': {'emitter': None, 'value': None, 'room': 2.0, 'right': None, 'left': None}}}}, 'left': {'emitter': 4, 'value': -53.0, 'room': None, 'right': {'emitter': 6, 'value': -71.0, 'room': None, 'right': {'emitter': 1, 'value': -55.0, 'room': None, 'right': {'emitter': 3, 'value': -51.0, 'room': None, 'right': {'emitter': 1, 'value': -57.0, 'room': None, 'right': {'emitter': 4, 'value': -60.0, 'room': None, 'right': {'emitter': None, 'value': None, 'room': 3.0, 'right': None, 'left': None}, 'left': {'emitter': 3, 'value': -52.0, 'room': None, 'right': {'emitter': None, 'value': None, 'room': 3.0, 'right': None, 'left': None}, 'left': {'emitter': None, 'value': None, 'room': 4.0, 'right': None, 'left': None}}}, 'left': {'emitter': 4, 'value': -69.0, 'room': None, 'right': {'emitter': 1, 'value': -56.0, 'room': None, 'right': {'emitter': None, 'value': None, 'room': 2.0, 'right': None, 'left': None}, 'left': {'emitter': None, 'value': None, 'room': 3.0, 'right': None, 'left': None}}, 'left': {'emitter': 5, 'value': -79.0, 'room': None, 'right': {'emitter': None, 'value': None, 'room': 3.0, 'right': None, 'left': None}, 'left': {'emitter': 6, 'value': -79.0, 'room': None, 'right': {'emitter': None, 'value': None, 'room': 2.0, 'right': None, 'left': None}, 'left': {'emitter': None, 'value': None, 'room': 3.0, 'right': None, 'left': None}}}}}, 'left': {'emitter': 4, 'value': -66.0, 'room': None, 'right': {'emitter': 1, 'value': -58.0, 'room': None, 'right': {'emitter': None, 'value': None, 'room': 3.0, 'right': None, 'left': None}, 'left': {'emitter': 0, 'value': -46.0, 'room': None, 'right': {'emitter': 3, 'value': -48.0, 'room': None, 'right': {'emitter': 5, 'value': -83.0, 'room': None, 'right': {'emitter': None, 'value': None, 'room': 1.0, 'right': None, 'left': None}, 'left': {'emitter': None, 'value': None, 'room': 3.0, 'right': None, 'left': None}}, 'left': {'emitter': None, 'value': None, 'room': 1.0, 'right': None, 'left': None}}, 'left': {'emitter': None, 'value': None, 'room': 3.0, 'right': None, 'left': None}}}, 'left': {'emitter': 4, 'value': -62.0, 'room': None, 'right': {'emitter': None, 'value': None, 'room': 3.0, 'right': None, 'left': None}, 'left': {'emitter': 5, 'value': -83.0, 'room': None, 'right': {'emitter': 3, 'value': -49.0, 'room': None, 'right': {'emitter': 2, 'value': -52.0, 'room': None, 'right': {'emitter': None, 'value': None, 'room': 1.0, 'right': None, 'left': None}, 'left': {'emitter': 0, 'value': -48.0, 'room': None, 'right': {'emitter': None, 'value': None, 'room': 3.0, 'right': None, 'left': None}, 'left': {'emitter': 0, 'value': -46.0, 'room': None, 'right': {'emitter': None, 'value': None, 'room': 1.0, 'right': None, 'left': None}, 'left': {'emitter': None, 'value': None, 'room': 3.0, 'right': None, 'left': None}}}}, 'left': {'emitter': 0, 'value': -52.0, 'room': None, 'right': {'emitter': None, 'value': None, 'room': 4.0, 'right': None, 'left': None}, 'left': {'emitter': 5, 'value': -84.0, 'room': None, 'right': {'emitter': None, 'value': None, 'room': 3.0, 'right': None, 'left': None}, 'left': {'emitter': None, 'value': None, 'room': 4.0, 'right': None, 'left': None}}}}, 'left': {'emitter': None, 'value': None, 'room': 3.0, 'right': None, 'left': None}}}}}, 'left': {'emitter': 5, 'value': -86.0, 'room': None, 'right': {'emitter': 3, 'value': -48.0, 'room': None, 'right': {'emitter': None, 'value': None, 'room': 3.0, 'right': None, 'left': None}, 'left': {'emitter': 2, 'value': -51.0, 'room': None, 'right': {'emitter': None, 'value': None, 'room': 4.0, 'right': None, 'left': None}, 'left': {'emitter': 0, 'value': -47.0, 'room': None, 'right': {'emitter': None, 'value': None, 'room': 3.0, 'right': None, 'left': None}, 'left': {'emitter': None, 'value': None, 'room': 1.0, 'right': None, 'left': None}}}}, 'left': {'emitter': 3, 'value': -53.0, 'room': None, 'right': {'emitter': 5, 'value': -82.0, 'room': None, 'right': {'emitter': 4, 'value': -60.0, 'room': None, 'right': {'emitter': 5, 'value': -84.0, 'room': None, 'right': {'emitter': None, 'value': None, 'room': 3.0, 'right': None, 'left': None}, 'left': {'emitter': None, 'value': None, 'room': 4.0, 'right': None, 'left': None}}, 'left': {'emitter': None, 'value': None, 'room': 3.0, 'right': None, 'left': None}}, 'left': {'emitter': 4, 'value': -56.0, 'room': None, 'right': {'emitter': 2, 'value': -52.0, 'room': None, 'right': {'emitter': 0, 'value': -49.0, 'room': None, 'right': {'emitter': None, 'value': None, 'room': 3.0, 'right': None, 'left': None}, 'left': {'emitter': 1, 'value': -52.0, 'room': None, 'right': {'emitter': None, 'value': None, 'room': 3.0, 'right': None, 'left': None}, 'left': {'emitter': None, 'value': None, 'room': 1.0, 'right': None, 'left': None}}}, 'left': {'emitter': None, 'value': None, 'room': 3.0, 'right': None, 'left': None}}, 'left': {'emitter': None, 'value': None, 'room': 1.0, 'right': None, 'left': None}}}, 'left': {'emitter': 6, 'value': -84.0, 'room': None, 'right': {'emitter': 1, 'value': -47.0, 'room': None, 'right': {'emitter': 6, 'value': -88.0, 'room': None, 'right': {'emitter': 4, 'value': -65.0, 'room': None, 'right': {'emitter': None, 'value': None, 'room': 4.0, 'right': None, 'left': None}, 'left': {'emitter': None, 'value': None, 'room': 3.0, 'right': None, 'left': None}}, 'left': {'emitter': None, 'value': None, 'room': 3.0, 'right': None, 'left': None}}, 'left': {'emitter': None, 'value': None, 'room': 4.0, 'right': None, 'left': None}}, 'left': {'emitter': None, 'value': None, 'room': 3.0, 'right': None, 'left': None}}}}}, 'left': {'emitter': None, 'value': None, 'room': 2.0, 'right': None, 'left': None}}, 'left': {'emitter': None, 'value': None, 'room': 4.0, 'right': None, 'left': None}}}, 'left': {'emitter': None, 'value': None, 'room': 2.0, 'right': None, 'left': None}}}, 'left': {'emitter': 3, 'value': -47.0, 'room': None, 'right': {'emitter': 0, 'value': -42.0, 'room': None, 'right': {'emitter': None, 'value': None, 'room': 3.0, 'right': None, 'left': None}, 'left': {'emitter': 2, 'value': -48.0, 'room': None, 'right': {'emitter': 4, 'value': -72.0, 'room': None, 'right': {'emitter': None, 'value': None, 'room': 1.0, 'right': None, 'left': None}, 'left': {'emitter': None, 'value': None, 'room': 2.0, 'right': None, 'left': None}}, 'left': {'emitter': None, 'value': None, 'room': 3.0, 'right': None, 'left': None}}}, 'left': {'emitter': 3, 'value': -41.0, 'room': None, 'right': {'emitter': 4, 'value': -58.0, 'room': None, 'right': {'emitter': 5, 'value': -69.0, 'room': None, 'right': {'emitter': 2, 'value': -50.0, 'room': None, 'right': {'emitter': 0, 'value': -35.0, 'room': None, 'right': {'emitter': 3, 'value': -43.0, 'room': None, 'right': {'emitter': None, 'value': None, 'room': 2.0, 'right': None, 'left': None}, 'left': {'emitter': 1, 'value': -50.0, 'room': None, 'right': {'emitter': 2, 'value': -63.0, 'room': None, 'right': {'emitter': None, 'value': None, 'room': 3.0, 'right': None, 'left': None}, 'left': {'emitter': 5, 'value': -70.0, 'room': None, 'right': {'emitter': 0, 'value': -38.0, 'room': None, 'right': {'emitter': None, 'value': None, 'room': 2.0, 'right': None, 'left': None}, 'left': {'emitter': 2, 'value': -55.0, 'room': None, 'right': {'emitter': 1, 'value': -55.0, 'room': None, 'right': {'emitter': None, 'value': None, 'room': 2.0, 'right': None, 'left': None}, 'left': {'emitter': None, 'value': None, 'room': 3.0, 'right': None, 'left': None}}, 'left': {'emitter': None, 'value': None, 'room': 2.0, 'right': None, 'left': None}}}, 'left': {'emitter': None, 'value': None, 'room': 3.0, 'right': None, 'left': None}}}, 'left': {'emitter': None, 'value': None, 'room': 3.0, 'right': None, 'left': None}}}, 'left': {'emitter': 0, 'value': -34.0, 'room': None, 'right': {'emitter': None, 'value': None, 'room': 1.0, 'right': None, 'left': None}, 'left': {'emitter': None, 'value': None, 'room': 2.0, 'right': None, 'left': None}}}, 'left': {'emitter': 0, 'value': -41.0, 'room': None, 'right': {'emitter': 1, 'value': -53.0, 'room': None, 'right': {'emitter': None, 'value': None, 'room': 1.0, 'right': None, 'left': None}, 'left': {'emitter': None, 'value': None, 'room': 2.0, 'right': None, 'left': None}}, 'left': {'emitter': None, 'value': None, 'room': 2.0, 'right': None, 'left': None}}}, 'left': {'emitter': None, 'value': None, 'room': 2.0, 'right': None, 'left': None}}, 'left': {'emitter': 0, 'value': -38.0, 'room': None, 'right': {'emitter': None, 'value': None, 'room': 1.0, 'right': None, 'left': None}, 'left': {'emitter': None, 'value': None, 'room': 2.0, 'right': None, 'left': None}}}, 'left': {'emitter': 1, 'value': -55.0, 'room': None, 'right': {'emitter': 6, 'value': -68.0, 'room': None, 'right': {'emitter': 0, 'value': -37.0, 'room': None, 'right': {'emitter': None, 'value': None, 'room': 2.0, 'right': None, 'left': None}, 'left': {'emitter': 1, 'value': -58.0, 'room': None, 'right': {'emitter': 6, 'value': -78.0, 'room': None, 'right': {'emitter': 1, 'value': -61.0, 'room': None, 'right': {'emitter': 0, 'value': -17.0, 'room': None, 'right': {'emitter': None, 'value': None, 'room': 3.0, 'right': None, 'left': None}, 'left': {'emitter': None, 'value': None, 'room': 2.0, 'right': None, 'left': None}}, 'left': {'emitter': None, 'value': None, 'room': 2.0, 'right': None, 'left': None}}, 'left': {'emitter': None, 'value': None, 'room': 2.0, 'right': None, 'left': None}}, 'left': {'emitter': 2, 'value': -60.0, 'room': None, 'right': {'emitter': 5, 'value': -71.0, 'room': None, 'right': {'emitter': None, 'value': None, 'room': 3.0, 'right': None, 'left': None}, 'left': {'emitter': None, 'value': None, 'room': 2.0, 'right': None, 'left': None}}, 'left': {'emitter': 4, 'value': -75.0, 'room': None, 'right': {'emitter': None, 'value': None, 'room': 3.0, 'right': None, 'left': None}, 'left': {'emitter': 6, 'value': -79.0, 'room': None, 'right': {'emitter': 0, 'value': -16.0, 'room': None, 'right': {'emitter': None, 'value': None, 'room': 3.0, 'right': None, 'left': None}, 'left': {'emitter': None, 'value': None, 'room': 2.0, 'right': None, 'left': None}}, 'left': {'emitter': 5, 'value': -69.0, 'room': None, 'right': {'emitter': None, 'value': None, 'room': 2.0, 'right': None, 'left': None}, 'left': {'emitter': 2, 'value': -54.0, 'room': None, 'right': {'emitter': None, 'value': None, 'room': 2.0, 'right': None, 'left': None}, 'left': {'emitter': None, 'value': None, 'room': 3.0, 'right': None, 'left': None}}}}}}}}, 'left': {'emitter': 4, 'value': -68.0, 'room': None, 'right': {'emitter': None, 'value': None, 'room': 2.0, 'right': None, 'left': None}, 'left': {'emitter': 2, 'value': -53.0, 'room': None, 'right': {'emitter': 4, 'value': -66.0, 'room': None, 'right': {'emitter': None, 'value': None, 'room': 4.0, 'right': None, 'left': None}, 'left': {'emitter': None, 'value': None, 'room': 2.0, 'right': None, 'left': None}}, 'left': {'emitter': 0, 'value': -35.0, 'room': None, 'right': {'emitter': 3, 'value': -37.0, 'room': None, 'right': {'emitter': None, 'value': None, 'room': 4.0, 'right': None, 'left': None}, 'left': {'emitter': None, 'value': None, 'room': 1.0, 'right': None, 'left': None}}, 'left': {'emitter': None, 'value': None, 'room': 3.0, 'right': None, 'left': None}}}}}, 'left': {'emitter': 2, 'value': -56.0, 'room': None, 'right': {'emitter': 0, 'value': -13.0, 'room': None, 'right': {'emitter': 0, 'value': -41.0, 'room': None, 'right': {'emitter': 3, 'value': -27.0, 'room': None, 'right': {'emitter': 5, 'value': -65.0, 'room': None, 'right': {'emitter': 5, 'value': -75.0, 'room': None, 'right': {'emitter': None, 'value': None, 'room': 1.0, 'right': None, 'left': None}, 'left': {'emitter': None, 'value': None, 'room': 2.0, 'right': None, 'left': None}}, 'left': {'emitter': None, 'value': None, 'room': 1.0, 'right': None, 'left': None}}, 'left': {'emitter': None, 'value': None, 'room': 4.0, 'right': None, 'left': None}}, 'left': {'emitter': 2, 'value': -57.0, 'room': None, 'right': {'emitter': None, 'value': None, 'room': 2.0, 'right': None, 'left': None}, 'left': {'emitter': 0, 'value': -27.0, 'room': None, 'right': {'emitter': 4, 'value': -64.0, 'room': None, 'right': {'emitter': 6, 'value': -64.0, 'room': None, 'right': {'emitter': None, 'value': None, 'room': 4.0, 'right': None, 'left': None}, 'left': {'emitter': None, 'value': None, 'room': 2.0, 'right': None, 'left': None}}, 'left': {'emitter': None, 'value': None, 'room': 2.0, 'right': None, 'left': None}}, 'left': {'emitter': None, 'value': None, 'room': 2.0, 'right': None, 'left': None}}}}, 'left': {'emitter': 0, 'value': -12.0, 'room': None, 'right': {'emitter': None, 'value': None, 'room': 3.0, 'right': None, 'left': None}, 'left': {'emitter': None, 'value': None, 'room': 4.0, 'right': None, 'left': None}}}, 'left': {'emitter': 4, 'value': -60.0, 'room': None, 'right': {'emitter': 4, 'value': -62.0, 'room': None, 'right': {'emitter': 2, 'value': -54.0, 'room': None, 'right': {'emitter': 3, 'value': -15.0, 'room': None, 'right': {'emitter': 3, 'value': -40.0, 'room': None, 'right': {'emitter': 0, 'value': -40.0, 'room': None, 'right': {'emitter': None, 'value': None, 'room': 4.0, 'right': None, 'left': None}, 'left': {'emitter': None, 'value': None, 'room': 2.0, 'right': None, 'left': None}}, 'left': {'emitter': None, 'value': None, 'room': 2.0, 'right': None, 'left': None}}, 'left': {'emitter': None, 'value': None, 'room': 4.0, 'right': None, 'left': None}}, 'left': {'emitter': None, 'value': None, 'room': 2.0, 'right': None, 'left': None}}, 'left': {'emitter': 1, 'value': -53.0, 'room': None, 'right': {'emitter': None, 'value': None, 'room': 2.0, 'right': None, 'left': None}, 'left': {'emitter': 1, 'value': -52.0, 'room': None, 'right': {'emitter': None, 'value': None, 'room': 4.0, 'right': None, 'left': None}, 'left': {'emitter': 2, 'value': -50.0, 'room': None, 'right': {'emitter': None, 'value': None, 'room': 2.0, 'right': None, 'left': None}, 'left': {'emitter': 0, 'value': -39.0, 'room': None, 'right': {'emitter': None, 'value': None, 'room': 2.0, 'right': None, 'left': None}, 'left': {'emitter': None, 'value': None, 'room': 4.0, 'right': None, 'left': None}}}}}}, 'left': {'emitter': 3, 'value': -36.0, 'room': None, 'right': {'emitter': 1, 'value': -53.0, 'room': None, 'right': {'emitter': None, 'value': None, 'room': 3.0, 'right': None, 'left': None}, 'left': {'emitter': None, 'value': None, 'room': 2.0, 'right': None, 'left': None}}, 'left': {'emitter': None, 'value': None, 'room': 2.0, 'right': None, 'left': None}}}}}}}}}\n"
     ]
    }
   ],
   "source": [
    "t, d = tree_learning(noisy_rows, 0)\n",
    "print(t)"
   ]
  },
  {
   "cell_type": "code",
   "execution_count": 102,
   "metadata": {},
   "outputs": [],
   "source": [
    "def cross_validation(dataset):\n",
    "\n",
    "#shuffle \n",
    "    np.random.shuffle(dataset)\n",
    "#take a set\n",
    "    fold_size = int(len(dataset)/10)\n",
    "    test = dataset[0:fold_size]\n",
    "    classes = set({})\n",
    "    confusion_matrix_array = []\n",
    "    \n",
    "    \n",
    "    for i in range(len(dataset)):\n",
    "        classes.add(dataset[i][-1])\n",
    "    \n",
    "    for i in range(10):\n",
    "        test = dataset[0+fold_size*i:fold_size*(i+1)]\n",
    "        training = np.vstack((dataset[0:0+fold_size*i],dataset[fold_size*(i+1):]))\n",
    "        root, depth = tree_learning(training, 0)\n",
    "        #accuracy, confusion_matrix = evaluate(test, root)\n",
    "        confusion_matrix = evaluate(test, root)\n",
    "        confusion_matrix_array.append(confusion_matrix)\n",
    "        print(accuracy(confusion_matrix))\n",
    "        \n",
    "    \n",
    "    \n",
    "        \n",
    "#cycle validation"
   ]
  },
  {
   "cell_type": "code",
   "execution_count": 103,
   "metadata": {},
   "outputs": [],
   "source": [
    "def evaluate(test, root): #why we do like this we dont need to\n",
    "    #recurse on evaluate we can make a function to just return the leaf value and comapre in the for loop and form\n",
    "    #the whole matrix here, the other function will just return our value\n",
    "    \n",
    "    arr = []\n",
    "    \n",
    "    for row in test:\n",
    "        prediction = return_result(row, root)\n",
    "        arr.append([row[-1],prediction])\n",
    "        \n",
    "    #print(arr)\n",
    "    return confuse_matrix(arr)"
   ]
  },
  {
   "cell_type": "code",
   "execution_count": 104,
   "metadata": {},
   "outputs": [],
   "source": [
    "def confuse_matrix(arr): \n",
    "    \n",
    "    cm = np.zeros((4,4))\n",
    "    \n",
    "    for i in range (1,5):\n",
    "        for pair in arr:\n",
    "            if(i == pair[0] and pair[0] == pair[1]):\n",
    "                    cm[i-1][i-1]+=1\n",
    "            if(i == pair[0] and pair[1] != i):\n",
    "                    cm[i-1][int(pair[1])-1]+=1\n",
    "    return cm\n",
    "    \n",
    "#confuse_matrix([[1, 1], [2, 2], [3,3], [1,2], [1,3], [3,1], [4,2]])"
   ]
  },
  {
   "cell_type": "code",
   "execution_count": 105,
   "metadata": {},
   "outputs": [],
   "source": [
    "def return_result(row, root):\n",
    "    \n",
    "    if(root['room']!= None):\n",
    "        return root['room']\n",
    "    else:\n",
    "        if(row[root['emitter']]>=root['value']):\n",
    "            return return_result(row, root['left'])\n",
    "        else:\n",
    "            return return_result(row, root['right'])"
   ]
  },
  {
   "cell_type": "code",
   "execution_count": 106,
   "metadata": {},
   "outputs": [],
   "source": [
    "def accuracy(cm):\n",
    "    return np.trace(cm)/np.sum(cm)"
   ]
  },
  {
   "cell_type": "code",
   "execution_count": 107,
   "metadata": {},
   "outputs": [
    {
     "name": "stdout",
     "output_type": "stream",
     "text": [
      "0.805\n",
      "0.735\n",
      "0.785\n",
      "0.81\n",
      "0.82\n",
      "0.785\n",
      "0.815\n",
      "0.775\n",
      "0.835\n",
      "0.86\n",
      "Runtime:  71.12011075019836\n"
     ]
    }
   ],
   "source": [
    "\n",
    "\n",
    "testing = np.loadtxt(\"noisy_dataset.txt\")\n",
    "st=time.time()\n",
    "cross_validation(testing)\n",
    "et=time.time()\n",
    "print('Runtime: ', et-st)"
   ]
  },
  {
   "cell_type": "code",
   "execution_count": null,
   "metadata": {},
   "outputs": [],
   "source": []
  },
  {
   "cell_type": "code",
   "execution_count": null,
   "metadata": {},
   "outputs": [],
   "source": []
  }
 ],
 "metadata": {
  "kernelspec": {
   "display_name": "Python 3",
   "language": "python",
   "name": "python3"
  },
  "language_info": {
   "codemirror_mode": {
    "name": "ipython",
    "version": 3
   },
   "file_extension": ".py",
   "mimetype": "text/x-python",
   "name": "python",
   "nbconvert_exporter": "python",
   "pygments_lexer": "ipython3",
   "version": "3.7.6"
  }
 },
 "nbformat": 4,
 "nbformat_minor": 4
}
