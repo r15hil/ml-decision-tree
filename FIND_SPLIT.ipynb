{
 "cells": [
  {
   "cell_type": "code",
   "execution_count": 68,
   "metadata": {},
   "outputs": [],
   "source": [
    "#given dataset d\n",
    "\n",
    "#sort by each emitter at a time\n",
    "\n",
    "#check info gain for each value in the emmitter\n",
    "\n",
    "#keep track of max info gain\n",
    "import numpy as np\n",
    "from collections import defaultdict\n",
    "from math import log2 \n",
    "\n",
    "test = np.loadtxt(\"clean_dataset.txt\")"
   ]
  },
  {
   "cell_type": "code",
   "execution_count": 73,
   "metadata": {},
   "outputs": [],
   "source": [
    "def madGains(All, Left, Right):\n",
    "    H_SAll=entropy(All)\n",
    "    Total=len(Left)+len(Right)\n",
    "    Remainder=((len(Left)/Total)*entropy(Left))+((len(Right)/Total)*entropy(Right))\n",
    "    Gains=H_SAll-Remainder\n",
    "    return Gains\n",
    "\n",
    "def entropy(data): # input is a multi dimensonal numpy array \n",
    "    num_entries = len(data) # total number of instances in the dataset\n",
    "    outcomes = defaultdict(int) # dict to hold count of each label in dataset\n",
    "    entropy = 0 # initial entropy value\n",
    "    for row in data:\n",
    "        key = row[-1] # label is last value of each instance\n",
    "        outcomes[key] += 1 # increment the count of the label \n",
    "\n",
    "    for key in outcomes:\n",
    "        outcomes[key] /= num_entries # compute the probability of each label \n",
    "        prob_label = outcomes[key] \n",
    "        entropy -= (prob_label*log2(prob_label)) # computing the entropy value\n",
    "\n",
    "    return entropy\n",
    "\n",
    "def FIND_SPLIT(d):\n",
    "    emitter = 0\n",
    "    value = 0\n",
    "    max_info_gain = 0\n",
    "    \n",
    "    for x in range(len(d[0])-2):\n",
    "        #d.sort(d,key = lambda y: y[x])\n",
    "        ds = np.array(sorted(d, key = lambda y: y[x], reverse=True))\n",
    "        for r in range(len(ds)):\n",
    "            \n",
    "            split_point = ds[r][x]\n",
    "            if(r!=len(ds)-1 and ds[r+1][x] == split_point):\n",
    "                continue\n",
    "            info_gain = madGains(ds, ds[:r+1],ds[r+1:])\n",
    "            \n",
    "            if(info_gain > max_info_gain):\n",
    "                emitter = x\n",
    "                value = split_point\n",
    "                max_info_gain = info_gain\n",
    "            \n",
    "            \n",
    "        \n",
    "    return emitter, value, max_info_gain\n",
    "    \n",
    "\n",
    "        "
   ]
  },
  {
   "cell_type": "code",
   "execution_count": 74,
   "metadata": {},
   "outputs": [
    {
     "name": "stdout",
     "output_type": "stream",
     "text": [
      "(0, -54.0, 0.9380693889198293)\n"
     ]
    }
   ],
   "source": [
    "print(FIND_SPLIT(test))"
   ]
  },
  {
   "cell_type": "code",
   "execution_count": null,
   "metadata": {},
   "outputs": [],
   "source": []
  }
 ],
 "metadata": {
  "kernelspec": {
   "display_name": "Python 3",
   "language": "python",
   "name": "python3"
  },
  "language_info": {
   "codemirror_mode": {
    "name": "ipython",
    "version": 3
   },
   "file_extension": ".py",
   "mimetype": "text/x-python",
   "name": "python",
   "nbconvert_exporter": "python",
   "pygments_lexer": "ipython3",
   "version": "3.8.3"
  }
 },
 "nbformat": 4,
 "nbformat_minor": 4
}
