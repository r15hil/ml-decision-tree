{
 "cells": [
  {
   "cell_type": "code",
   "execution_count": 23,
   "metadata": {},
   "outputs": [],
   "source": [
    "import numpy as np"
   ]
  },
  {
   "cell_type": "code",
   "execution_count": 26,
   "metadata": {},
   "outputs": [],
   "source": [
    "clean_rows = np.loadtxt(\"clean_dataset.txt\")\n",
    "noisy_rows = np.loadtxt(\"noisy_dataset.txt\")"
   ]
  },
  {
   "cell_type": "code",
   "execution_count": 30,
   "metadata": {},
   "outputs": [],
   "source": [
    "e1 = []\n",
    "e2 = []\n",
    "e3 = []\n",
    "e4 = []\n",
    "e5 = []\n",
    "e6 = []\n",
    "e7 = []"
   ]
  },
  {
   "cell_type": "code",
   "execution_count": 33,
   "metadata": {},
   "outputs": [],
   "source": [
    "for x in range(len(clean_rows)):\n",
    "    e1.append(clean_rows[x][0])\n",
    "    e2.append(clean_rows[x][1])\n",
    "    e3.append(clean_rows[x][2])\n",
    "    e4.append(clean_rows[x][3])\n",
    "    e5.append(clean_rows[x][4])\n",
    "    e6.append(clean_rows[x][5])\n",
    "    e7.append(clean_rows[x][6])"
   ]
  },
  {
   "cell_type": "code",
   "execution_count": null,
   "metadata": {},
   "outputs": [],
   "source": []
  }
 ],
 "metadata": {
  "kernelspec": {
   "display_name": "Python 3",
   "language": "python",
   "name": "python3"
  },
  "language_info": {
   "codemirror_mode": {
    "name": "ipython",
    "version": 3
   },
   "file_extension": ".py",
   "mimetype": "text/x-python",
   "name": "python",
   "nbconvert_exporter": "python",
   "pygments_lexer": "ipython3",
   "version": "3.8.3"
  }
 },
 "nbformat": 4,
 "nbformat_minor": 4
}
