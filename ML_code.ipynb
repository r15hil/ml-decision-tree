{
 "cells": [
  {
   "cell_type": "code",
   "execution_count": 23,
   "metadata": {},
   "outputs": [],
   "source": [
    "import numpy as np"
   ]
  },
  {
   "cell_type": "code",
   "execution_count": 26,
   "metadata": {},
   "outputs": [],
   "source": [
    "clean_rows = np.loadtxt(\"clean_dataset.txt\")\n",
    "noisy_rows = np.loadtxt(\"noisy_dataset.txt\")"
   ]
  },
  {
   "cell_type": "code",
   "execution_count": 46,
   "metadata": {},
   "outputs": [
    {
     "data": {
      "text/plain": [
       "array([[-64., -56., -61., ..., -82., -81.,   1.],\n",
       "       [-68., -57., -61., ..., -85., -85.,   1.],\n",
       "       [-63., -60., -60., ..., -85., -84.,   1.],\n",
       "       ...,\n",
       "       [-62., -59., -46., ..., -87., -88.,   4.],\n",
       "       [-62., -58., -52., ..., -90., -85.,   4.],\n",
       "       [-59., -50., -45., ..., -88., -87.,   4.]])"
      ]
     },
     "execution_count": 46,
     "metadata": {},
     "output_type": "execute_result"
    }
   ],
   "source": [
    "clean_rows"
   ]
  },
  {
   "cell_type": "code",
   "execution_count": 64,
   "metadata": {},
   "outputs": [],
   "source": [
    "e1 = []\n",
    "e2 = []\n",
    "e3 = []\n",
    "e4 = []\n",
    "e5 = []\n",
    "e6 = []\n",
    "e7 = []\n",
    "rooms = []"
   ]
  },
  {
   "cell_type": "code",
   "execution_count": 65,
   "metadata": {},
   "outputs": [],
   "source": [
    "for x in range(len(clean_rows)):\n",
    "    e1.append(clean_rows[x][0])\n",
    "    e2.append(clean_rows[x][1])\n",
    "    e3.append(clean_rows[x][2])\n",
    "    e4.append(clean_rows[x][3])\n",
    "    e5.append(clean_rows[x][4])\n",
    "    e6.append(clean_rows[x][5])\n",
    "    e7.append(clean_rows[x][6])\n",
    "    rooms.append(clean_rows[x][7])"
   ]
  },
  {
   "cell_type": "code",
   "execution_count": 78,
   "metadata": {},
   "outputs": [
    {
     "data": {
      "text/plain": [
       "-56.0"
      ]
     },
     "execution_count": 78,
     "metadata": {},
     "output_type": "execute_result"
    }
   ],
   "source": [
    "e2[0]"
   ]
  },
  {
   "cell_type": "code",
   "execution_count": 67,
   "metadata": {},
   "outputs": [
    {
     "data": {
      "text/plain": [
       "2000"
      ]
     },
     "execution_count": 67,
     "metadata": {},
     "output_type": "execute_result"
    }
   ],
   "source": []
  },
  {
   "cell_type": "code",
   "execution_count": null,
   "metadata": {},
   "outputs": [],
   "source": []
  }
 ],
 "metadata": {
  "kernelspec": {
   "display_name": "Python 3",
   "language": "python",
   "name": "python3"
  },
  "language_info": {
   "codemirror_mode": {
    "name": "ipython",
    "version": 3
   },
   "file_extension": ".py",
   "mimetype": "text/x-python",
   "name": "python",
   "nbconvert_exporter": "python",
   "pygments_lexer": "ipython3",
   "version": "3.8.3"
  }
 },
 "nbformat": 4,
 "nbformat_minor": 4
}
