{
 "cells": [
  {
   "cell_type": "code",
   "execution_count": 8,
   "metadata": {},
   "outputs": [],
   "source": [
    "import numpy as np"
   ]
  },
  {
   "cell_type": "code",
   "execution_count": 13,
   "metadata": {},
   "outputs": [
    {
     "data": {
      "text/plain": [
       "array([[-59., -53., -51., ..., -79., -87.,   4.],\n",
       "       [-66., -53., -59., ..., -81., -79.,   1.],\n",
       "       [-41., -57., -63., ..., -66., -65.,   2.],\n",
       "       ...,\n",
       "       [-57., -54., -56., ..., -79., -82.,   1.],\n",
       "       [-56., -52., -50., ..., -85., -88.,   3.],\n",
       "       [-46., -54., -47., ..., -80., -73.,   3.]])"
      ]
     },
     "execution_count": 13,
     "metadata": {},
     "output_type": "execute_result"
    }
   ],
   "source": [
    "np.loadtxt(\"clean_dataset.txt\")\n",
    "np.loadtxt(\"noisy_dataset.txt\")"
   ]
  },
  {
   "cell_type": "code",
   "execution_count": null,
   "metadata": {},
   "outputs": [],
   "source": []
  }
 ],
 "metadata": {
  "kernelspec": {
   "display_name": "Python 3",
   "language": "python",
   "name": "python3"
  },
  "language_info": {
   "codemirror_mode": {
    "name": "ipython",
    "version": 3
   },
   "file_extension": ".py",
   "mimetype": "text/x-python",
   "name": "python",
   "nbconvert_exporter": "python",
   "pygments_lexer": "ipython3",
   "version": "3.8.3"
  }
 },
 "nbformat": 4,
 "nbformat_minor": 4
}
