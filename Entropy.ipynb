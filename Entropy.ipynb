{
 "cells": [
  {
   "cell_type": "code",
   "execution_count": 1,
   "metadata": {},
   "outputs": [],
   "source": [
    "import numpy as np\n",
    "from math import log2"
   ]
  },
  {
   "cell_type": "code",
   "execution_count": 2,
   "metadata": {},
   "outputs": [],
   "source": [
    "def madGains(All, Left, Right):\n",
    "    H_SAll=entropy(All)\n",
    "    Total=len(Left)+len(Right)\n",
    "    Remainder=((len(Left)/Total)*entropy(Left))+((len(Right)/Total)*entropy(Right))\n",
    "    Gains=H_SAll-Remainder\n",
    "    return Gains"
   ]
  },
  {
   "cell_type": "code",
   "execution_count": 3,
   "metadata": {},
   "outputs": [],
   "source": [
    "def entropy(roomData):\n",
    "    H=0.0\n",
    "    i=0\n",
    "    scoreboard = {1:0, 2:0, 3:0, 4:0}\n",
    "    size = len(roomData)\n",
    "    while i<size:\n",
    "        if roomData[i][-1] == 1:\n",
    "            scoreboard[1]+=1\n",
    "        elif roomData[i][-1] == 2:\n",
    "            scoreboard[2]+=1\n",
    "        elif roomData[i][-1] == 3:\n",
    "            scoreboard[3]+=1\n",
    "        elif roomData[i][-1] == 4:\n",
    "            scoreboard[4]+=1\n",
    "        i+=1;\n",
    "    for i in (1,2,3,4):\n",
    "        if scoreboard[i] > 0:\n",
    "            H += ((-scoreboard[i])/size)*(log2(scoreboard[i]/size))\n",
    "    print(H)\n",
    "    return H"
   ]
  },
  {
   "cell_type": "code",
   "execution_count": 4,
   "metadata": {},
   "outputs": [
    {
     "name": "stdout",
     "output_type": "stream",
     "text": [
      "1.0\n"
     ]
    },
    {
     "data": {
      "text/plain": [
       "1.0"
      ]
     },
     "execution_count": 4,
     "metadata": {},
     "output_type": "execute_result"
    }
   ],
   "source": [
    "entropy([[1,2],[3,4]])"
   ]
  }
 ],
 "metadata": {
  "kernelspec": {
   "display_name": "Python 3",
   "language": "python",
   "name": "python3"
  },
  "language_info": {
   "codemirror_mode": {
    "name": "ipython",
    "version": 3
   },
   "file_extension": ".py",
   "mimetype": "text/x-python",
   "name": "python",
   "nbconvert_exporter": "python",
   "pygments_lexer": "ipython3",
   "version": "3.8.3"
  }
 },
 "nbformat": 4,
 "nbformat_minor": 4
}
